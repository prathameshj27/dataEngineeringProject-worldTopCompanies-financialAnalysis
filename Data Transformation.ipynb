{
 "cells": [
  {
   "cell_type": "code",
   "execution_count": 0,
   "metadata": {
    "application/vnd.databricks.v1+cell": {
     "cellMetadata": {
      "byteLimit": 2048000,
      "rowLimit": 10000
     },
     "inputWidgets": {},
     "nuid": "70edb57f-8d6f-48c9-aff3-e684a88fd203",
     "showTitle": false,
     "title": ""
    }
   },
   "outputs": [],
   "source": [
    "from pyspark.sql.functions import col\n",
    "from pyspark.sql.types import IntegerType, DoubleType, BooleanType, DateType\n",
    "from pyspark.sql import functions as F"
   ]
  },
  {
   "cell_type": "code",
   "execution_count": 0,
   "metadata": {
    "application/vnd.databricks.v1+cell": {
     "cellMetadata": {
      "byteLimit": 2048000,
      "rowLimit": 10000
     },
     "inputWidgets": {},
     "nuid": "eb29c275-7ea1-4b90-9c07-686e75a29a25",
     "showTitle": false,
     "title": ""
    }
   },
   "outputs": [
    {
     "output_type": "execute_result",
     "data": {
      "text/plain": [
       "True"
      ]
     },
     "execution_count": 1,
     "metadata": {},
     "output_type": "execute_result"
    }
   ],
   "source": [
    "configs = {\"fs.azure.account.auth.type\": \"OAuth\",\n",
    "\"fs.azure.account.oauth.provider.type\": \"org.apache.hadoop.fs.azurebfs.oauth2.ClientCredsTokenProvider\",\n",
    "\"fs.azure.account.oauth2.client.id\": \"\",\n",
    "\"fs.azure.account.oauth2.client.secret\": '',\n",
    "\"fs.azure.account.oauth2.client.endpoint\": \"https://login.microsoftonline.com/<tenant ID>/oauth2/token\"}\n",
    "\n",
    "dbutils.fs.mount(\n",
    "source = \"abfss://companies-financialdata@dataengineeringpipeline.dfs.core.windows.net\",\n",
    "mount_point = \"/mnt/WorldTopCompaniesFinancialAnalysis\",\n",
    "extra_configs = configs)"
   ]
  },
  {
   "cell_type": "code",
   "execution_count": 0,
   "metadata": {
    "application/vnd.databricks.v1+cell": {
     "cellMetadata": {
      "byteLimit": 2048000,
      "rowLimit": 10000
     },
     "inputWidgets": {},
     "nuid": "24044139-cd2b-43cf-af2a-d75a51b96e87",
     "showTitle": false,
     "title": ""
    }
   },
   "outputs": [
    {
     "output_type": "display_data",
     "data": {
      "text/html": [
       "<style scoped>\n",
       "  .table-result-container {\n",
       "    max-height: 300px;\n",
       "    overflow: auto;\n",
       "  }\n",
       "  table, th, td {\n",
       "    border: 1px solid black;\n",
       "    border-collapse: collapse;\n",
       "  }\n",
       "  th, td {\n",
       "    padding: 5px;\n",
       "  }\n",
       "  th {\n",
       "    text-align: left;\n",
       "  }\n",
       "</style><div class='table-result-container'><table class='table-result'><thead style='background-color: white'><tr><th>path</th><th>name</th><th>size</th><th>modificationTime</th></tr></thead><tbody><tr><td>dbfs:/mnt/WorldTopCompaniesFinancialAnalysis/raw-data/</td><td>raw-data/</td><td>0</td><td>1729352214000</td></tr><tr><td>dbfs:/mnt/WorldTopCompaniesFinancialAnalysis/transformed-data/</td><td>transformed-data/</td><td>0</td><td>1729352228000</td></tr></tbody></table></div>"
      ]
     },
     "metadata": {
      "application/vnd.databricks.v1+output": {
       "addedWidgets": {},
       "aggData": [],
       "aggError": "",
       "aggOverflow": false,
       "aggSchema": [],
       "aggSeriesLimitReached": false,
       "aggType": "",
       "arguments": {},
       "columnCustomDisplayInfos": {},
       "data": [
        [
         "dbfs:/mnt/WorldTopCompaniesFinancialAnalysis/raw-data/",
         "raw-data/",
         0,
         1729352214000
        ],
        [
         "dbfs:/mnt/WorldTopCompaniesFinancialAnalysis/transformed-data/",
         "transformed-data/",
         0,
         1729352228000
        ]
       ],
       "datasetInfos": [],
       "dbfsResultPath": null,
       "isJsonSchema": true,
       "metadata": {
        "isDbfsCommandResult": false
       },
       "overflow": false,
       "plotOptions": {
        "customPlotOptions": {},
        "displayType": "table",
        "pivotAggregation": null,
        "pivotColumns": null,
        "xColumns": null,
        "yColumns": null
       },
       "removedWidgets": [],
       "schema": [
        {
         "metadata": "{}",
         "name": "path",
         "type": "\"string\""
        },
        {
         "metadata": "{}",
         "name": "name",
         "type": "\"string\""
        },
        {
         "metadata": "{}",
         "name": "size",
         "type": "\"long\""
        },
        {
         "metadata": "{}",
         "name": "modificationTime",
         "type": "\"long\""
        }
       ],
       "type": "table"
      }
     },
     "output_type": "display_data"
    }
   ],
   "source": [
    "%fs\n",
    "ls \"/mnt/WorldTopCompaniesFinancialAnalysis\""
   ]
  },
  {
   "cell_type": "code",
   "execution_count": 0,
   "metadata": {
    "application/vnd.databricks.v1+cell": {
     "cellMetadata": {
      "byteLimit": 2048000,
      "rowLimit": 10000
     },
     "inputWidgets": {},
     "nuid": "456567e9-bbd2-43e4-8461-05d03595e769",
     "showTitle": false,
     "title": ""
    }
   },
   "outputs": [
    {
     "output_type": "execute_result",
     "data": {
      "text/html": [
       "\n",
       "            <div>\n",
       "                <p><b>SparkSession - hive</b></p>\n",
       "                \n",
       "        <div>\n",
       "            <p><b>SparkContext</b></p>\n",
       "\n",
       "            <p><a href=\"/?o=797517841707338#setting/sparkui/1021-033644-1h4t2v64/driver-8891644910598795558\">Spark UI</a></p>\n",
       "\n",
       "            <dl>\n",
       "              <dt>Version</dt>\n",
       "                <dd><code>v3.5.0</code></dd>\n",
       "              <dt>Master</dt>\n",
       "                <dd><code>local[*, 4]</code></dd>\n",
       "              <dt>AppName</dt>\n",
       "                <dd><code>Databricks Shell</code></dd>\n",
       "            </dl>\n",
       "        </div>\n",
       "        \n",
       "            </div>\n",
       "        "
      ],
      "text/plain": [
       "<pyspark.sql.session.SparkSession at 0x7fadae43c550>"
      ]
     },
     "execution_count": 6,
     "metadata": {},
     "output_type": "execute_result"
    }
   ],
   "source": [
    "spark"
   ]
  },
  {
   "cell_type": "code",
   "execution_count": 0,
   "metadata": {
    "application/vnd.databricks.v1+cell": {
     "cellMetadata": {
      "byteLimit": 2048000,
      "rowLimit": 10000
     },
     "inputWidgets": {},
     "nuid": "e8bbe268-21c2-4792-b1c7-8c67e8ed5c73",
     "showTitle": false,
     "title": ""
    }
   },
   "outputs": [],
   "source": [
    "companies_ranked_by_dividend_yield = spark.read.format(\"csv\").option(\"header\",\"true\").option(\"inferSchema\",\"true\").load(\"/mnt/WorldTopCompaniesFinancialAnalysis/raw-data/companies_ranked_by_dividend_yield\")\n",
    "companies_ranked_by_earnings = spark.read.format(\"csv\").option(\"header\",\"true\").option(\"inferSchema\",\"true\").load(\"/mnt/WorldTopCompaniesFinancialAnalysis/raw-data/companies_ranked_by_earnings\")\n",
    "companies_ranked_by_market_cap = spark.read.format(\"csv\").option(\"header\",\"true\").option(\"inferSchema\",\"true\").load(\"/mnt/WorldTopCompaniesFinancialAnalysis/raw-data/companies_ranked_by_market_cap\")\n",
    "companies_ranked_by_P_E_ratio = spark.read.format(\"csv\").option(\"header\",\"true\").option(\"inferSchema\",\"true\").load(\"/mnt/WorldTopCompaniesFinancialAnalysis/raw-data/companies_ranked_by_P_E_ratio\")\n",
    "companies_ranked_by_revenue = spark.read.format(\"csv\").option(\"header\",\"true\").option(\"inferSchema\",\"true\").load(\"/mnt/WorldTopCompaniesFinancialAnalysis/raw-data/companies_ranked_by_revenue\")"
   ]
  },
  {
   "cell_type": "code",
   "execution_count": 0,
   "metadata": {
    "application/vnd.databricks.v1+cell": {
     "cellMetadata": {
      "byteLimit": 2048000,
      "rowLimit": 10000
     },
     "inputWidgets": {},
     "nuid": "d3565340-ad71-4224-95cc-49ac76151853",
     "showTitle": false,
     "title": ""
    }
   },
   "outputs": [
    {
     "output_type": "stream",
     "name": "stdout",
     "output_type": "stream",
     "text": [
      "+----+--------------------+--------+------------------+-------------+-------------+\n|Rank|                Name|  Symbol|dividend_yield_ttm|  price (GBP)|      country|\n+----+--------------------+--------+------------------+-------------+-------------+\n|   1|             LianBio|    LIAN|          300940.0|   0.24306524|United States|\n|   2|      Richter Gedeon|  RIG2.F|          150430.0| 23.726824832|      Hungary|\n|   3|         Delek Group|DLEKG.TA|          117114.0|   87.7358842|       Israel|\n|   4|LMP Automotive Ho...|    LMPX|          106250.0|    0.1219136|United States|\n|   5|                MBIA|     MBI|           22346.4|    2.7278168|United States|\n|   6|             trivago|    TRVG|           16142.9|    1.3258104|      Germany|\n|   7|Arab Insurance Group| ARIG.BH|           10612.9|      0.38098|      Bahrain|\n|   8|       TRxADE HEALTH|    MEDS|           10540.2|    5.7832764|United States|\n|   9|Merrimack Pharmac...|    MACK|           9980.17|   11.5284548|United States|\n|  10|               Lufax|      LU|            7621.3|    2.7659148|        China|\n|  11|   SM Prime Holdings|   SPHXF|           7521.74|    0.3505016|  Philippines|\n|  12|      Tourmaline Bio|    TRML|            6047.2|    18.744216|United States|\n|  13|              Méliuz|CASH3.SA|           6005.26|0.56005431528|       Brazil|\n|  14|   LENZ Therapeutics|    LENZ|           5998.34|    18.363236|United States|\n|  15|Bahrain National ...|  BNH.BH|           5833.35|0.12129869828|      Bahrain|\n|  16|  B. Riley Financial|    RILY|           5655.04|    3.8936156|United States|\n|  17|    Emperador Brandy|  EMI.SI|            5329.6|0.25446644748|  Philippines|\n|  18|         Danske Bank| DANS.VI|           5272.65|  22.72202818|      Denmark|\n|  19|          FutureFuel|      FF|           4875.44|  4.272004936|United States|\n|  20|        J-Long Group|      JL|           4811.34|   0.29792636|    Hong Kong|\n+----+--------------------+--------+------------------+-------------+-------------+\nonly showing top 20 rows\n\n"
     ]
    }
   ],
   "source": [
    "companies_ranked_by_dividend_yield.show()"
   ]
  },
  {
   "cell_type": "code",
   "execution_count": 0,
   "metadata": {
    "application/vnd.databricks.v1+cell": {
     "cellMetadata": {
      "byteLimit": 2048000,
      "rowLimit": 10000
     },
     "inputWidgets": {},
     "nuid": "70b29fa6-1f9c-4de5-badb-787d255f02d7",
     "showTitle": false,
     "title": ""
    }
   },
   "outputs": [
    {
     "output_type": "stream",
     "name": "stdout",
     "output_type": "stream",
     "text": [
      "root\n |-- Rank: string (nullable = true)\n |-- Name: string (nullable = true)\n |-- Symbol: string (nullable = true)\n |-- dividend_yield_ttm: double (nullable = true)\n |-- price (GBP): string (nullable = true)\n |-- country: string (nullable = true)\n\n"
     ]
    }
   ],
   "source": [
    "companies_ranked_by_dividend_yield.printSchema()"
   ]
  },
  {
   "cell_type": "code",
   "execution_count": 0,
   "metadata": {
    "application/vnd.databricks.v1+cell": {
     "cellMetadata": {
      "byteLimit": 2048000,
      "rowLimit": 10000
     },
     "inputWidgets": {},
     "nuid": "65635123-1001-4f65-8254-f274fae1dbee",
     "showTitle": false,
     "title": ""
    }
   },
   "outputs": [],
   "source": [
    "companies_ranked_by_dividend_yield = companies_ranked_by_dividend_yield.withColumn(\"Rank\", col(\"Rank\").cast(IntegerType()))\\\n",
    "    .withColumn(\"price (GBP)\", col(\"price (GBP)\").cast(DoubleType()))"
   ]
  },
  {
   "cell_type": "code",
   "execution_count": 0,
   "metadata": {
    "application/vnd.databricks.v1+cell": {
     "cellMetadata": {
      "byteLimit": 2048000,
      "rowLimit": 10000
     },
     "inputWidgets": {},
     "nuid": "055a8fc4-04d1-450b-af54-57e25e5c3625",
     "showTitle": false,
     "title": ""
    }
   },
   "outputs": [
    {
     "output_type": "stream",
     "name": "stdout",
     "output_type": "stream",
     "text": [
      "root\n |-- Rank: integer (nullable = true)\n |-- Name: string (nullable = true)\n |-- Symbol: string (nullable = true)\n |-- dividend_yield_ttm: double (nullable = true)\n |-- price (GBP): double (nullable = true)\n |-- country: string (nullable = true)\n\n"
     ]
    }
   ],
   "source": [
    "companies_ranked_by_dividend_yield.printSchema()"
   ]
  },
  {
   "cell_type": "code",
   "execution_count": 0,
   "metadata": {
    "application/vnd.databricks.v1+cell": {
     "cellMetadata": {
      "byteLimit": 2048000,
      "rowLimit": 10000
     },
     "inputWidgets": {},
     "nuid": "225e5f83-6f67-46c1-a608-c3091d9ad4f0",
     "showTitle": false,
     "title": ""
    }
   },
   "outputs": [
    {
     "output_type": "stream",
     "name": "stdout",
     "output_type": "stream",
     "text": [
      "+----+--------------------+---------+------------+-------------+-------------+\n|Rank|                Name|   Symbol|earnings_ttm|  price (GBP)|      country|\n+----+--------------------+---------+------------+-------------+-------------+\n|   1|        Saudi Aramco|  2222.SR|  2.28378E11| 5.5054048272| Saudi Arabia|\n|   2|               Apple|     AAPL|  1.21625E11| 176.73433612|United States|\n|   3|           Microsoft|     MSFT|  1.07787E11|   326.461762|United States|\n|   4|   Alphabet (Google)|     GOOG|  1.01821E11|  126.2796308|United States|\n|   5|  Berkshire Hathaway|    BRK-B|   8.8904E10|   347.625201|United States|\n|   6|      JPMorgan Chase|      JPM|   6.8787E10|  158.0152648|United States|\n|   7|              NVIDIA|     NVDA|   6.1372E10|  92.21697096|United States|\n|   8|Meta Platforms (F...|     META|   6.0646E10|   433.593338|United States|\n|   9|                ICBC|  1398.HK|  5.79046E10|0.45355592804|        China|\n|  10|              Amazon|     AMZN|   5.6855E10|  143.4999268|United States|\n|  11|China Constructio...|601939.SS|  5.36375E10| 0.8525799028|        China|\n|  12|         Exxon Mobil|      XOM|   5.0358E10|   87.8692272|United States|\n|  13|              Toyota|       TM|  4.77173E10| 136.14929868|        Japan|\n|  14|China Pacific Ins...|601601.SS|  4.60097E10| 4.2037866572|        China|\n|  15|Agricultural Bank...|601288.SS|  4.30148E10|0.51606560252|        China|\n|  16|       Bank of China|601988.SS|  4.03718E10|0.53756811372|        China|\n|  17|                TSMC|      TSM|  3.73297E10|  134.0059052|       Taiwan|\n|  18|          PetroChina|601857.SS|  3.72276E10| 0.9697693508|        China|\n|  19|       TotalEnergies|      TTE|   3.6607E10|   49.6074058|       France|\n|  20|             Equinor|     EQNR|   3.2331E10|   19.1290058|       Norway|\n+----+--------------------+---------+------------+-------------+-------------+\nonly showing top 20 rows\n\n"
     ]
    }
   ],
   "source": [
    "companies_ranked_by_earnings.show()"
   ]
  },
  {
   "cell_type": "code",
   "execution_count": 0,
   "metadata": {
    "application/vnd.databricks.v1+cell": {
     "cellMetadata": {
      "byteLimit": 2048000,
      "rowLimit": 10000
     },
     "inputWidgets": {},
     "nuid": "4b6e0070-7c56-4785-86dd-f51dc49b8401",
     "showTitle": false,
     "title": ""
    }
   },
   "outputs": [
    {
     "output_type": "stream",
     "name": "stdout",
     "output_type": "stream",
     "text": [
      "root\n |-- Rank: string (nullable = true)\n |-- Name: string (nullable = true)\n |-- Symbol: string (nullable = true)\n |-- earnings_ttm: double (nullable = true)\n |-- price (GBP): string (nullable = true)\n |-- country: string (nullable = true)\n\n"
     ]
    }
   ],
   "source": [
    "companies_ranked_by_earnings.printSchema()"
   ]
  },
  {
   "cell_type": "code",
   "execution_count": 0,
   "metadata": {
    "application/vnd.databricks.v1+cell": {
     "cellMetadata": {
      "byteLimit": 2048000,
      "rowLimit": 10000
     },
     "inputWidgets": {},
     "nuid": "5995f516-6e57-4172-9dec-edadd03fd0e0",
     "showTitle": false,
     "title": ""
    }
   },
   "outputs": [],
   "source": [
    "companies_ranked_by_earnings = companies_ranked_by_earnings.withColumn(\"Rank\", col(\"Rank\").cast(IntegerType()))\\\n",
    "    .withColumn(\"price (GBP)\", col(\"price (GBP)\").cast(DoubleType()))"
   ]
  },
  {
   "cell_type": "code",
   "execution_count": 0,
   "metadata": {
    "application/vnd.databricks.v1+cell": {
     "cellMetadata": {
      "byteLimit": 2048000,
      "rowLimit": 10000
     },
     "inputWidgets": {},
     "nuid": "5ab9f6b3-07e5-4abe-909c-f34704992d16",
     "showTitle": false,
     "title": ""
    }
   },
   "outputs": [
    {
     "output_type": "stream",
     "name": "stdout",
     "output_type": "stream",
     "text": [
      "root\n |-- Rank: integer (nullable = true)\n |-- Name: string (nullable = true)\n |-- Symbol: string (nullable = true)\n |-- earnings_ttm: double (nullable = true)\n |-- price (GBP): double (nullable = true)\n |-- country: string (nullable = true)\n\n"
     ]
    }
   ],
   "source": [
    "companies_ranked_by_earnings.printSchema()"
   ]
  },
  {
   "cell_type": "code",
   "execution_count": 0,
   "metadata": {
    "application/vnd.databricks.v1+cell": {
     "cellMetadata": {
      "byteLimit": 2048000,
      "rowLimit": 10000
     },
     "inputWidgets": {},
     "nuid": "78202ddf-6b67-4efa-a972-da4f7d047546",
     "showTitle": false,
     "title": ""
    }
   },
   "outputs": [
    {
     "output_type": "stream",
     "name": "stdout",
     "output_type": "stream",
     "text": [
      "+----+--------------------+-------+------------------+------------+-------------+\n|Rank|                Name| Symbol|         marketcap| price (GBP)|      country|\n+----+--------------------+-------+------------------+------------+-------------+\n|   1|               Apple|   AAPL|2.6899026940841E12| 176.9194924|United States|\n|   2|           Microsoft|   MSFT|2.4271696214308E12|  326.537958|United States|\n|   3|              NVIDIA|   NVDA|2.2593533390304E12|  92.1057248|United States|\n|   4|   Alphabet (Google)|   GOOG|1.5498145079388E12| 126.4586914|United States|\n|   5|              Amazon|   AMZN|1.5060378801249E12| 143.4923072|United States|\n|   6|        Saudi Aramco|2222.SR|1.3485430118996E12|5.5054048272| Saudi Arabia|\n|   7|Meta Platforms (F...|   META|1.0957564718612E12|  433.136162|United States|\n|   8|  Berkshire Hathaway|  BRK-B|7.4922956107809E11| 347.6671088|United States|\n|   9|                TSMC|    TSM|6.9524190891344E11| 134.0592424|       Taiwan|\n|  10|               Tesla|   TSLA|6.3994793594454E11|  200.319284|United States|\n|  11|            Broadcom|   AVGO| 6.096216685124E11|  130.523748|United States|\n|  12|           Eli Lilly|    LLY|5.9963455633621E11| 665.9454204|United States|\n|  13|             Walmart|    WMT|4.9056785493131E11|  61.0291862|United States|\n|  14|      JPMorgan Chase|    JPM|4.4885637249892E11|157.76153212|United States|\n|  15|                Visa|      V|4.0830117872796E11| 209.8285448|United States|\n|  16|        UnitedHealth|    UNH|4.0804313542689E11| 441.8834628|United States|\n|  17|             Tencent|  TCEHY|4.0168992708887E11|  43.7136452|        China|\n|  18|        Novo Nordisk|    NVO|3.9478852342252E11|    89.72079|      Denmark|\n|  19|         Exxon Mobil|    XOM|3.9069271333667E11|  87.9378036|United States|\n|  20|              Oracle|   ORCL| 3.563894081441E11| 128.6112284|United States|\n+----+--------------------+-------+------------------+------------+-------------+\nonly showing top 20 rows\n\n"
     ]
    }
   ],
   "source": [
    "companies_ranked_by_market_cap.show()"
   ]
  },
  {
   "cell_type": "code",
   "execution_count": 0,
   "metadata": {
    "application/vnd.databricks.v1+cell": {
     "cellMetadata": {
      "byteLimit": 2048000,
      "rowLimit": 10000
     },
     "inputWidgets": {},
     "nuid": "db7c0579-3342-43af-8731-9b56bd93e6e4",
     "showTitle": false,
     "title": ""
    }
   },
   "outputs": [
    {
     "output_type": "stream",
     "name": "stdout",
     "output_type": "stream",
     "text": [
      "root\n |-- Rank: string (nullable = true)\n |-- Name: string (nullable = true)\n |-- Symbol: string (nullable = true)\n |-- marketcap: double (nullable = true)\n |-- price (GBP): string (nullable = true)\n |-- country: string (nullable = true)\n\n"
     ]
    }
   ],
   "source": [
    "companies_ranked_by_market_cap.printSchema()"
   ]
  },
  {
   "cell_type": "code",
   "execution_count": 0,
   "metadata": {
    "application/vnd.databricks.v1+cell": {
     "cellMetadata": {
      "byteLimit": 2048000,
      "rowLimit": 10000
     },
     "inputWidgets": {},
     "nuid": "28d2916b-705c-42f8-91b6-4044193a020e",
     "showTitle": false,
     "title": ""
    }
   },
   "outputs": [],
   "source": [
    "companies_ranked_by_market_cap = companies_ranked_by_market_cap.withColumn(\"Rank\", col(\"Rank\").cast(IntegerType()))\\\n",
    "    .withColumn(\"price (GBP)\", col(\"price (GBP)\").cast(DoubleType()))"
   ]
  },
  {
   "cell_type": "code",
   "execution_count": 0,
   "metadata": {
    "application/vnd.databricks.v1+cell": {
     "cellMetadata": {
      "byteLimit": 2048000,
      "rowLimit": 10000
     },
     "inputWidgets": {},
     "nuid": "0fad353f-610e-4b49-83ab-f5d1ac4d5981",
     "showTitle": false,
     "title": ""
    }
   },
   "outputs": [
    {
     "output_type": "stream",
     "name": "stdout",
     "output_type": "stream",
     "text": [
      "root\n |-- Rank: integer (nullable = true)\n |-- Name: string (nullable = true)\n |-- Symbol: string (nullable = true)\n |-- marketcap: double (nullable = true)\n |-- price (GBP): double (nullable = true)\n |-- country: string (nullable = true)\n\n"
     ]
    }
   ],
   "source": [
    "companies_ranked_by_market_cap.printSchema()"
   ]
  },
  {
   "cell_type": "code",
   "execution_count": 0,
   "metadata": {
    "application/vnd.databricks.v1+cell": {
     "cellMetadata": {
      "byteLimit": 2048000,
      "rowLimit": 10000
     },
     "inputWidgets": {},
     "nuid": "0f229c0a-c9a8-4d29-a683-b224e076909f",
     "showTitle": false,
     "title": ""
    }
   },
   "outputs": [
    {
     "output_type": "stream",
     "name": "stdout",
     "output_type": "stream",
     "text": [
      "+----+--------------------+-------+------------+------------+--------------+\n|Rank|                Name| Symbol|pe_ratio_ttm| price (GBP)|       country|\n+----+--------------------+-------+------------+------------+--------------+\n|   1|  Imperial Petroleum|   IMPP|    0.109943|   3.1087968|        Greece|\n|   2|       Vertex Energy|   VTNR|    0.188889|  0.09219716| United States|\n|   3|         Spin Master| TOY.TO|    0.224758|17.414443408|        Canada|\n|   4|Performance Shipping|   PSHG|    0.225293|  1.46791594|        Greece|\n|   5|      TherapeuticsMD|   TXMD|    0.340956|   1.2800928| United States|\n|   6|            Chimerix|   CMRX|    0.433204| 0.684925844| United States|\n|   7|         Tingo Group|    TIO|    0.456954|   0.5257524| United States|\n|   8|      Canacol Energy| CNE.TO|    0.462276|2.0054711004|        Canada|\n|   9|           CR Energy|CRZK.DE|    0.517095| 5.083111356|       Germany|\n|  10|        Vital Energy|   VTLE|    0.532125|  20.3367124| United States|\n|  11|GO (Etihad Atheeb...|7040.SR|    0.561111|18.954059784|  Saudi Arabia|\n|  12|Transcontinental ...|    TCI|    0.563821|   21.944448| United States|\n|  13|               Akili|   AKLI|    0.581744| 0.330004876| United States|\n|  14|Assertio Therapeu...|   ASRT|        0.59| 0.906656204| United States|\n|  15|      Amplify Energy|   AMPY|    0.591328|    4.857495| United States|\n|  16|Jastrzebska Spólk...| JSW.WA|    0.641092|5.0848562444|        Poland|\n|  17|              JanOne|    JAN|    0.642651|   1.6991708| United States|\n|  18|                Qiwi|QIWI.ME|    0.669488|   1.9506176|        Cyprus|\n|  19|           Petrobras|    PBR|    0.710291|10.979234032|        Brazil|\n|  20|Theravance Biopharma|   TBPH|    0.713028|   6.1490172|Cayman Islands|\n+----+--------------------+-------+------------+------------+--------------+\nonly showing top 20 rows\n\n"
     ]
    }
   ],
   "source": [
    "companies_ranked_by_P_E_ratio.show()"
   ]
  },
  {
   "cell_type": "code",
   "execution_count": 0,
   "metadata": {
    "application/vnd.databricks.v1+cell": {
     "cellMetadata": {
      "byteLimit": 2048000,
      "rowLimit": 10000
     },
     "inputWidgets": {},
     "nuid": "eb4edf03-2d34-4d6a-90f6-534f2c004882",
     "showTitle": false,
     "title": ""
    }
   },
   "outputs": [
    {
     "output_type": "stream",
     "name": "stdout",
     "output_type": "stream",
     "text": [
      "root\n |-- Rank: string (nullable = true)\n |-- Name: string (nullable = true)\n |-- Symbol: string (nullable = true)\n |-- pe_ratio_ttm: double (nullable = true)\n |-- price (GBP): string (nullable = true)\n |-- country: string (nullable = true)\n\n"
     ]
    }
   ],
   "source": [
    "companies_ranked_by_P_E_ratio.printSchema()"
   ]
  },
  {
   "cell_type": "code",
   "execution_count": 0,
   "metadata": {
    "application/vnd.databricks.v1+cell": {
     "cellMetadata": {
      "byteLimit": 2048000,
      "rowLimit": 10000
     },
     "inputWidgets": {},
     "nuid": "e7761171-117b-444d-b6cf-747439652b1d",
     "showTitle": false,
     "title": ""
    }
   },
   "outputs": [],
   "source": [
    "companies_ranked_by_P_E_ratio = companies_ranked_by_P_E_ratio.withColumn(\"Rank\", col(\"Rank\").cast(IntegerType()))\\\n",
    "    .withColumn(\"price (GBP)\", col(\"price (GBP)\").cast(DoubleType()))"
   ]
  },
  {
   "cell_type": "code",
   "execution_count": 0,
   "metadata": {
    "application/vnd.databricks.v1+cell": {
     "cellMetadata": {
      "byteLimit": 2048000,
      "rowLimit": 10000
     },
     "inputWidgets": {},
     "nuid": "4a3a7c9e-926b-433b-8a74-2935f8c87394",
     "showTitle": false,
     "title": ""
    }
   },
   "outputs": [
    {
     "output_type": "stream",
     "name": "stdout",
     "output_type": "stream",
     "text": [
      "root\n |-- Rank: integer (nullable = true)\n |-- Name: string (nullable = true)\n |-- Symbol: string (nullable = true)\n |-- pe_ratio_ttm: double (nullable = true)\n |-- price (GBP): double (nullable = true)\n |-- country: string (nullable = true)\n\n"
     ]
    }
   ],
   "source": [
    "companies_ranked_by_P_E_ratio.printSchema()"
   ]
  },
  {
   "cell_type": "code",
   "execution_count": 0,
   "metadata": {
    "application/vnd.databricks.v1+cell": {
     "cellMetadata": {
      "byteLimit": 2048000,
      "rowLimit": 10000
     },
     "inputWidgets": {},
     "nuid": "36d46489-dc38-4d65-ac76-b724324a79fe",
     "showTitle": false,
     "title": ""
    }
   },
   "outputs": [
    {
     "output_type": "stream",
     "name": "stdout",
     "output_type": "stream",
     "text": [
      "+----+--------------------+---------+----------------+-------------+--------------+\n|Rank|                Name|   Symbol|     revenue_ttm|  price (GBP)|       country|\n+----+--------------------+---------+----------------+-------------+--------------+\n|   1|             Walmart|      WMT|      6.65035E11|   61.0291862| United States|\n|   2|              Amazon|     AMZN|      6.04334E11|  143.4542092| United States|\n|   3|        Saudi Aramco|  2222.SR| 4.9535480685E11| 5.5054048272|  Saudi Arabia|\n|   4|             Sinopec|600028.SS|4.35696880608E11|0.74829500936|         China|\n|   5|          PetroChina|601857.SS|4.29671599508E11| 0.9697693508|         China|\n|   6|  Berkshire Hathaway|    BRK-B|      4.02877E11|  347.5375756| United States|\n|   7|               Apple|     AAPL|      3.85603E11| 176.70690556| United States|\n|   8|        UnitedHealth|      UNH|      3.81255E11|  441.4872436| United States|\n|   9|          CVS Health|      CVS|      3.63248E11|   47.7291744| United States|\n|  10|          Volkswagen|  VOW3.DE|3.50679303398E11|  79.99589452|       Germany|\n|  11|         Exxon Mobil|      XOM|      3.40655E11|   87.8692272| United States|\n|  12|   Alphabet (Google)|     GOOG|      3.28284E11|  126.2529622| United States|\n|  13|China State Const...|601668.SS|3.19969725663E11|0.66443445372|         China|\n|  14|            McKesson|      MCK|      3.13751E11|   371.626941| United States|\n|  15|              Toyota|       TM| 3.0859883142E11|  136.2079696|         Japan|\n|  16|               Shell|     SHEL|      3.02023E11|    50.136968|United Kingdom|\n|  17|             Cencora|      COR|   2.83830824E11|  170.9381064| United States|\n|  18|                 JBS| JBSS3.SA|2.81463003188E11| 4.2351565504|        Brazil|\n|  19|            Glencore|    GLCNF|      2.55984E11|    4.3507916|   Switzerland|\n|  20|              Costco|     COST|      2.53695E11|  684.6743972| United States|\n+----+--------------------+---------+----------------+-------------+--------------+\nonly showing top 20 rows\n\n"
     ]
    }
   ],
   "source": [
    "companies_ranked_by_revenue.show()"
   ]
  },
  {
   "cell_type": "code",
   "execution_count": 0,
   "metadata": {
    "application/vnd.databricks.v1+cell": {
     "cellMetadata": {
      "byteLimit": 2048000,
      "rowLimit": 10000
     },
     "inputWidgets": {},
     "nuid": "de5a38ac-f978-4719-a5e3-53dab5c26165",
     "showTitle": false,
     "title": ""
    }
   },
   "outputs": [
    {
     "output_type": "stream",
     "name": "stdout",
     "output_type": "stream",
     "text": [
      "root\n |-- Rank: string (nullable = true)\n |-- Name: string (nullable = true)\n |-- Symbol: string (nullable = true)\n |-- revenue_ttm: double (nullable = true)\n |-- price (GBP): string (nullable = true)\n |-- country: string (nullable = true)\n\n"
     ]
    }
   ],
   "source": [
    "companies_ranked_by_revenue.printSchema()"
   ]
  },
  {
   "cell_type": "code",
   "execution_count": 0,
   "metadata": {
    "application/vnd.databricks.v1+cell": {
     "cellMetadata": {
      "byteLimit": 2048000,
      "rowLimit": 10000
     },
     "inputWidgets": {},
     "nuid": "651805af-5035-4d3a-8194-7771f6ee0557",
     "showTitle": false,
     "title": ""
    }
   },
   "outputs": [],
   "source": [
    "companies_ranked_by_revenue = companies_ranked_by_revenue.withColumn(\"Rank\", col(\"Rank\").cast(IntegerType()))\\\n",
    "    .withColumn(\"price (GBP)\", col(\"price (GBP)\").cast(DoubleType()))"
   ]
  },
  {
   "cell_type": "code",
   "execution_count": 0,
   "metadata": {
    "application/vnd.databricks.v1+cell": {
     "cellMetadata": {
      "byteLimit": 2048000,
      "rowLimit": 10000
     },
     "inputWidgets": {},
     "nuid": "9802cbe5-10b4-4f7a-af6e-c2c7bc61687f",
     "showTitle": false,
     "title": ""
    }
   },
   "outputs": [
    {
     "output_type": "stream",
     "name": "stdout",
     "output_type": "stream",
     "text": [
      "root\n |-- Rank: integer (nullable = true)\n |-- Name: string (nullable = true)\n |-- Symbol: string (nullable = true)\n |-- revenue_ttm: double (nullable = true)\n |-- price (GBP): double (nullable = true)\n |-- country: string (nullable = true)\n\n"
     ]
    }
   ],
   "source": [
    "companies_ranked_by_revenue.printSchema()"
   ]
  },
  {
   "cell_type": "code",
   "execution_count": 0,
   "metadata": {
    "application/vnd.databricks.v1+cell": {
     "cellMetadata": {
      "byteLimit": 2048000,
      "rowLimit": 10000
     },
     "inputWidgets": {},
     "nuid": "162fd431-cb4f-4f5c-acbf-5597b46d2bf3",
     "showTitle": false,
     "title": ""
    }
   },
   "outputs": [],
   "source": [
    "# Top countries with the highest total dividend yield\n",
    "\n",
    "country_dividend_yield = companies_ranked_by_dividend_yield.groupBy(\"country\") \\\n",
    "    .agg(F.sum(\"dividend_yield_ttm\").alias(\"total_dividend_yield\")) \\\n",
    "    .orderBy(F.desc(\"total_dividend_yield\"))"
   ]
  },
  {
   "cell_type": "code",
   "execution_count": 0,
   "metadata": {
    "application/vnd.databricks.v1+cell": {
     "cellMetadata": {
      "byteLimit": 2048000,
      "rowLimit": 10000
     },
     "inputWidgets": {},
     "nuid": "1c9735cb-1c70-4b9e-9690-64354004886a",
     "showTitle": false,
     "title": ""
    }
   },
   "outputs": [
    {
     "output_type": "stream",
     "name": "stdout",
     "output_type": "stream",
     "text": [
      "+--------------+--------------------+\n|       country|total_dividend_yield|\n+--------------+--------------------+\n| United States|   995398.8273249988|\n|       Hungary|           152386.92|\n|        Israel|  123907.87729999996|\n|        Canada|   70421.58260000001|\n|     Hong Kong|   69356.73149999997|\n|         Japan|   67933.74385000003|\n|United Kingdom|   67116.37930000002|\n|       Germany|  63641.740399999995|\n|         China|   55523.84450000001|\n|        France|  47046.088999999985|\n|        Brazil|   39211.26079999999|\n|         India|   37611.38812999999|\n|  Saudi Arabia|  34260.626469999996|\n|     Australia|  32510.654000000013|\n|         Italy|  30123.929800000005|\n|        Norway|  27187.520699999997|\n|        Sweden|   24341.55161999999|\n|   Switzerland|  24174.312299999998|\n|       Bahrain|  23799.218000000008|\n|     Singapore|          21719.4896|\n+--------------+--------------------+\nonly showing top 20 rows\n\n"
     ]
    }
   ],
   "source": [
    "country_dividend_yield.show()"
   ]
  },
  {
   "cell_type": "code",
   "execution_count": 0,
   "metadata": {
    "application/vnd.databricks.v1+cell": {
     "cellMetadata": {
      "byteLimit": 2048000,
      "rowLimit": 10000
     },
     "inputWidgets": {},
     "nuid": "613a3875-0825-40bb-9211-69cfdb15103c",
     "showTitle": false,
     "title": ""
    }
   },
   "outputs": [
    {
     "output_type": "stream",
     "name": "stdout",
     "output_type": "stream",
     "text": [
      "+----+--------------------+---------+----------------+-------------+--------------+\n|Rank|                Name|   Symbol|     revenue_ttm|  price (GBP)|       country|\n+----+--------------------+---------+----------------+-------------+--------------+\n|   1|             Walmart|      WMT|      6.65035E11|   61.0291862| United States|\n|   2|              Amazon|     AMZN|      6.04334E11|  143.4542092| United States|\n|   3|        Saudi Aramco|  2222.SR| 4.9535480685E11| 5.5054048272|  Saudi Arabia|\n|   4|             Sinopec|600028.SS|4.35696880608E11|0.74829500936|         China|\n|   5|          PetroChina|601857.SS|4.29671599508E11| 0.9697693508|         China|\n|   6|  Berkshire Hathaway|    BRK-B|      4.02877E11|  347.5375756| United States|\n|   7|               Apple|     AAPL|      3.85603E11| 176.70690556| United States|\n|   8|        UnitedHealth|      UNH|      3.81255E11|  441.4872436| United States|\n|   9|          CVS Health|      CVS|      3.63248E11|   47.7291744| United States|\n|  10|          Volkswagen|  VOW3.DE|3.50679303398E11|  79.99589452|       Germany|\n|  11|         Exxon Mobil|      XOM|      3.40655E11|   87.8692272| United States|\n|  12|   Alphabet (Google)|     GOOG|      3.28284E11|  126.2529622| United States|\n|  13|China State Const...|601668.SS|3.19969725663E11|0.66443445372|         China|\n|  14|            McKesson|      MCK|      3.13751E11|   371.626941| United States|\n|  15|              Toyota|       TM| 3.0859883142E11|  136.2079696|         Japan|\n|  16|               Shell|     SHEL|      3.02023E11|    50.136968|United Kingdom|\n|  17|             Cencora|      COR|   2.83830824E11|  170.9381064| United States|\n|  18|                 JBS| JBSS3.SA|2.81463003188E11| 4.2351565504|        Brazil|\n|  19|            Glencore|    GLCNF|      2.55984E11|    4.3507916|   Switzerland|\n|  20|              Costco|     COST|      2.53695E11|  684.6743972| United States|\n+----+--------------------+---------+----------------+-------------+--------------+\nonly showing top 20 rows\n\n"
     ]
    }
   ],
   "source": [
    "companies_ranked_by_revenue.show()"
   ]
  },
  {
   "cell_type": "code",
   "execution_count": 0,
   "metadata": {
    "application/vnd.databricks.v1+cell": {
     "cellMetadata": {
      "byteLimit": 2048000,
      "rowLimit": 10000
     },
     "inputWidgets": {},
     "nuid": "ee3850ff-fd2d-4b45-ab16-8bd323f32c74",
     "showTitle": false,
     "title": ""
    }
   },
   "outputs": [
    {
     "output_type": "stream",
     "name": "stdout",
     "output_type": "stream",
     "text": [
      "+----+-------+------+-----------+-----------+-------------+\n|Rank|   Name|Symbol|revenue_ttm|price (GBP)|      country|\n+----+-------+------+-----------+-----------+-------------+\n|   1|Walmart|   WMT| 6.65035E11| 61.0291862|United States|\n|   2| Amazon|  AMZN| 6.04334E11|143.4542092|United States|\n+----+-------+------+-----------+-----------+-------------+\n\n"
     ]
    }
   ],
   "source": [
    "# Filter companies with revenue greater than 500 billion GBP\n",
    "high_revenue_companies = companies_ranked_by_revenue.filter(companies_ranked_by_revenue.revenue_ttm > 500_000_000_000)\n",
    "high_revenue_companies.show()"
   ]
  },
  {
   "cell_type": "code",
   "execution_count": 0,
   "metadata": {
    "application/vnd.databricks.v1+cell": {
     "cellMetadata": {
      "byteLimit": 2048000,
      "rowLimit": 10000
     },
     "inputWidgets": {},
     "nuid": "ea86a691-d287-4ed2-ab12-32c957e5d25c",
     "showTitle": false,
     "title": ""
    }
   },
   "outputs": [
    {
     "output_type": "stream",
     "name": "stdout",
     "output_type": "stream",
     "text": [
      "+--------------------+-------------+\n|             country|company_count|\n+--------------------+-------------+\n|       United States|         3706|\n|               India|          585|\n|              Canada|          471|\n|      United Kingdom|          411|\n|             Germany|          378|\n|               Japan|          348|\n|           Australia|          342|\n|               China|          319|\n|              France|          308|\n|        Saudi Arabia|          225|\n|         Switzerland|          196|\n|              Sweden|          190|\n|              Israel|          150|\n|           Hong Kong|          148|\n|United Arab Emirates|          142|\n|              Poland|          107|\n|         South Korea|          104|\n|              Norway|          103|\n|              Taiwan|          101|\n|               Italy|           93|\n+--------------------+-------------+\nonly showing top 20 rows\n\n"
     ]
    }
   ],
   "source": [
    "# Count the number of companies per country\n",
    "country_count = companies_ranked_by_revenue.groupBy(\"country\") \\\n",
    "    .agg(F.count(\"Name\").alias(\"company_count\")) \\\n",
    "    .orderBy(F.desc(\"company_count\"))\n",
    "\n",
    "country_count.show()"
   ]
  },
  {
   "cell_type": "code",
   "execution_count": 0,
   "metadata": {
    "application/vnd.databricks.v1+cell": {
     "cellMetadata": {
      "byteLimit": 2048000,
      "rowLimit": 10000
     },
     "inputWidgets": {},
     "nuid": "f1815c61-51b5-4535-a39b-d8258fa3713f",
     "showTitle": false,
     "title": ""
    }
   },
   "outputs": [],
   "source": [
    "companies_ranked_by_dividend_yield.repartition(1).write.mode(\"overwrite\").option(\"header\",\"true\").csv(\"/mnt/WorldTopCompaniesFinancialAnalysis/transformed-data/companies_ranked_by_dividend_yield\")"
   ]
  },
  {
   "cell_type": "code",
   "execution_count": 0,
   "metadata": {
    "application/vnd.databricks.v1+cell": {
     "cellMetadata": {
      "byteLimit": 2048000,
      "rowLimit": 10000
     },
     "inputWidgets": {},
     "nuid": "c41b9de2-4f94-42fe-bb7d-1cc00977f589",
     "showTitle": false,
     "title": ""
    }
   },
   "outputs": [],
   "source": [
    "companies_ranked_by_earnings.repartition(1).write.mode(\"overwrite\").option(\"header\",\"true\").csv(\"/mnt/WorldTopCompaniesFinancialAnalysis/transformed-data/companies_ranked_by_earnings\")\n",
    "companies_ranked_by_market_cap.repartition(1).write.mode(\"overwrite\").option(\"header\",\"true\").csv(\"/mnt/WorldTopCompaniesFinancialAnalysis/transformed-data/companies_ranked_by_market_cap\")\n",
    "companies_ranked_by_P_E_ratio.repartition(1).write.mode(\"overwrite\").option(\"header\",\"true\").csv(\"/mnt/WorldTopCompaniesFinancialAnalysis/transformed-data/companies_ranked_by_P_E_ratio\")\n",
    "companies_ranked_by_revenue.repartition(1).write.mode(\"overwrite\").option(\"header\",\"true\").csv(\"/mnt/WorldTopCompaniesFinancialAnalysis/transformed-data/companies_ranked_by_revenue\")"
   ]
  }
 ],
 "metadata": {
  "application/vnd.databricks.v1+notebook": {
   "dashboards": [],
   "environmentMetadata": {
    "base_environment": "",
    "client": "1"
   },
   "language": "python",
   "notebookMetadata": {
    "mostRecentlyExecutedCommandWithImplicitDF": {
     "commandId": 1432781638425310,
     "dataframes": [
      "_sqldf"
     ]
    },
    "pythonIndentUnit": 4
   },
   "notebookName": "Data Transformation",
   "widgets": {}
  }
 },
 "nbformat": 4,
 "nbformat_minor": 0
}
